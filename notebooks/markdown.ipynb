{
 "cells": [
  {
   "cell_type": "markdown",
   "metadata": {},
   "source": [
    "# Markdown quickstart\n",
    "\n",
    "It works **just like you would expect**. \n",
    "\n",
    "Read the [docs](https://jupyter-notebook.readthedocs.io/en/stable/examples/Notebook/Working%20With%20Markdown%20Cells.html) for more information!\n",
    "\n",
    "To convert a cell to markdown, select it and press `m`.\n"
   ]
  },
  {
   "cell_type": "markdown",
   "metadata": {},
   "source": [
    "## Some Julia code\n",
    "\n",
    "```julia\n",
    "function randomHanzi()\n",
    "    n = rand(0x4e00:0x9fff)\n",
    "    String([Char(n)])\n",
    "end\n",
    "\n",
    "for _ in 1:8\n",
    "    print(randomHanzi(), \" \")\n",
    "end\n",
    "```"
   ]
  },
  {
   "cell_type": "code",
   "execution_count": null,
   "metadata": {},
   "outputs": [],
   "source": []
  }
 ],
 "metadata": {
  "kernelspec": {
   "display_name": "Julia 1.4.0",
   "language": "julia",
   "name": "julia-1.4"
  },
  "language_info": {
   "file_extension": ".jl",
   "mimetype": "application/julia",
   "name": "julia",
   "version": "1.4.0"
  }
 },
 "nbformat": 4,
 "nbformat_minor": 4
}
