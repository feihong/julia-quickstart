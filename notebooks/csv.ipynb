{
 "cells": [
  {
   "cell_type": "code",
   "execution_count": 25,
   "metadata": {
    "scrolled": true
   },
   "outputs": [
    {
     "name": "stdout",
     "output_type": "stream",
     "text": [
      "comedy, sci-fi, shounen | Start from beginning\n",
      "comedy, strip, supernatural | missing\n",
      "adventure, wuxia | missing\n"
     ]
    }
   ],
   "source": [
    "import CSV\n",
    "\n",
    "file = CSV.File(IOBuffer(b\"\"\"\n",
    "Title,Link,Genre,Good chapter\n",
    "月兔复仇记,https://m.dongmanmanhua.cn/COMEDY/yuetufuchouji/list?title_no=1343,\"comedy, sci-fi, shounen\",Start from beginning\n",
    "一品芝麻狐,https://m.kuaikanmanhua.com/mobile/686/list/,\"comedy, strip, supernatural\",\n",
    "不凡的江湖,https://m.kuaikanmanhua.com/mobile/6272/list/,\"adventure, wuxia\",\n",
    "\"\"\"); normalizenames=true)\n",
    "\n",
    "for row in file\n",
    "    println(row.Genre, \" | \", row.Good_chapter)\n",
    "end"
   ]
  },
  {
   "cell_type": "code",
   "execution_count": 17,
   "metadata": {},
   "outputs": [
    {
     "name": "stdout",
     "output_type": "stream",
     "text": [
      "comedy, fantasy, strip\n",
      "comedy, pet, strip\n",
      "comedy, strip\n"
     ]
    }
   ],
   "source": [
    "file = CSV.File(IOBuffer(b\"\"\"\n",
    "Title,Link,Genre,Good chapter\n",
    "废柴狐狸阿桔,https://m.kuaikanmanhua.com/mobile/861/list/,\"comedy, fantasy, strip\",\n",
    "有猫在,https://m.kuaikanmanhua.com/mobile/149/list/,\"comedy, pet, strip\",https://m.kuaikanmanhua.com/mobile/comics/1096/?topic_id=149\n",
    "柔美的细胞君,https://m.dongmanmanhua.cn/HEALING/xibaojun/list?title_no=465,\"comedy, strip\",\n",
    "\"\"\"); datarow=2, header=[:title,:link,:genre,:chapter])\n",
    "\n",
    "for row in file\n",
    "    println(row.genre)\n",
    "end"
   ]
  },
  {
   "cell_type": "code",
   "execution_count": 27,
   "metadata": {},
   "outputs": [
    {
     "name": "stdout",
     "output_type": "stream",
     "text": [
      "thread = 1 warning: only found 3 / 4 columns on data row: 30. Filling remaining columns with `missing`\n"
     ]
    },
    {
     "data": {
      "text/plain": [
       "30-element CSV.File{false}:\n",
       " CSV.Row{false}:\n",
       " :Title         …  \"月兔复仇记\"\n",
       " :Link             \"https://m.dongmanmanhua.cn/COMEDY/yuetufuchouji/list?title_no=1343\"\n",
       " :Genre            \"comedy, sci-fi, shounen\"\n",
       " :Good_chapter     \"Start from beginning\"\n",
       " CSV.Row{false}:\n",
       " :Title         \"一品芝麻狐\"\n",
       " :Link          \"https://m.kuaikanmanhua.com/mobile/686/list/\"\n",
       " :Genre         \"comedy, strip, supernatural\"\n",
       " :Good_chapter  missing\n",
       " CSV.Row{false}:\n",
       " :Title         \"不凡的江湖\"\n",
       " :Link          \"https://m.kuaikanmanhua.com/mobile/6272/list/\"\n",
       " :Genre         \"adventure, wuxia\"\n",
       " :Good_chapter  missing\n",
       " CSV.Row{false}:\n",
       " :Title         \"不自然博物馆\"\n",
       " :Link          \"https://m.kuaikanmanhua.com/mobile/152/list/\"\n",
       " :Genre         \"comedy, strip\"\n",
       " :Good_chapter  missing\n",
       " CSV.Row{false}:\n",
       " :Title         \"俺哥来自深山\"\n",
       " :Link          \"https://m.kuaikanmanhua.com/mobile/5728/list/\"\n",
       " :Genre         \"comedy, strip, supernatural\"\n",
       " :Good_chapter  missing\n",
       " CSV.Row{false}:\n",
       " :Title         …  \"僵尸奶爸\"\n",
       " :Link             \"https://m.dongmanmanhua.cn/COMEDY/jiangshinaiba/list?title_no=1324\"\n",
       " :Genre            \"comedy, zombie\"\n",
       " :Good_chapter     \"Start from beginning\"\n",
       " CSV.Row{false}:\n",
       " :Title         …  \"入伍吧！魔法少女\"\n",
       " :Link             \"https://m.webtoons.com/zh-hant/comedy/mofashaonu/list?title_no=1120\"\n",
       " :Genre            \"comedy, superhero\"\n",
       " :Good_chapter     missing\n",
       " CSV.Row{false}:\n",
       " :Title         \"再见，曾经喜欢的你\"\n",
       " :Link          \"https://m.kuaikanmanhua.com/mobile/752/list/\"\n",
       " :Genre         \"comedy, romance\"\n",
       " :Good_chapter  missing\n",
       " CSV.Row{false}:\n",
       " :Title         \"刀鞘的孩子\"\n",
       " :Link          \"https://m.kuaikanmanhua.com/mobile/6117/list/\"\n",
       " :Genre         \"fantasy, wuxia\"\n",
       " :Good_chapter  missing\n",
       " CSV.Row{false}:\n",
       " :Title         \"叫我森先生\"\n",
       " :Link          \"https://m.kuaikanmanhua.com/mobile/96/list/\"\n",
       " :Genre         \"comedy, strip\"\n",
       " :Good_chapter  missing\n",
       " CSV.Row{false}:\n",
       " :Title         …  \"吾皇巴扎黑\"\n",
       " :Link             \"https://m.kuaikanmanhua.com/mobile/68/list/\"\n",
       " :Genre            \"comedy, pet, strip\"\n",
       " :Good_chapter     \"https://m.kuaikanmanhua.com/comics/244076?Source=6&TimeStamp=2020-03-27%2013%3A15%3A35%3A486\"\n",
       " CSV.Row{false}:\n",
       " :Title         \"噩梦之城\"\n",
       " :Link          \"https://m.kuaikanmanhua.com/mobile/1180/list/\"\n",
       " :Genre         \"crime, thriller\"\n",
       " :Good_chapter  missing\n",
       " CSV.Row{false}:\n",
       " :Title         \"天经地易\"\n",
       " :Link          \"https://m.kuaikanmanhua.com/mobile/2979/list/\"\n",
       " :Genre         \"action, supernatural\"\n",
       " :Good_chapter  missing\n",
       " ⋮\n",
       " CSV.Row{false}:\n",
       " :Title         …  \"猫猫虫咖波\"\n",
       " :Link             \"https://m.webtoons.com/zh-hant/comedy/maomaochongkapo/list?title_no=394\"\n",
       " :Genre            \"comedy, strip, wordless\"\n",
       " :Good_chapter     \"https://www.webtoons.com/zh-hant/comedy/maomaochongkapo/%E7%AC%AC521%E8%A9%B1-%E5%91%BC%E6%8B%89%E5%9C%88%E7%BE%8E%E5%91%B3%E5%B0%8F%E9%9B%9E/viewer?title_no=394&episode_no=529\"\n",
       " CSV.Row{false}:\n",
       " :Title         \"章鱼\"\n",
       " :Link          \"https://m.kuaikanmanhua.com/mobile/4219/list/\"\n",
       " :Genre         \"supernatural\"\n",
       " :Good_chapter  missing\n",
       " CSV.Row{false}:\n",
       " :Title         \"绝顶\"\n",
       " :Link          \"https://m.dongmanmanhua.cn/BOY/jueding/list?title_no=1331\"\n",
       " :Genre         \"comedy, wuxia\"\n",
       " :Good_chapter  missing\n",
       " CSV.Row{false}:\n",
       " :Title         \"羽影\"\n",
       " :Link          \"https://m.kuaikanmanhua.com/mobile/3131/list/\"\n",
       " :Genre         \"sports\"\n",
       " :Good_chapter  missing\n",
       " CSV.Row{false}:\n",
       " :Title         \"耐撕房东\"\n",
       " :Link          \"https://m.kuaikanmanhua.com/mobile/3263/list/\"\n",
       " :Genre         \"comedy, fantasy\"\n",
       " :Good_chapter  \"Start from beginning\"\n",
       " CSV.Row{false}:\n",
       " :Title         …  \"花样家族\"\n",
       " :Link             \"https://m.dongmanmanhua.cn/COMEDY/huayangjiazu/list?title_no=306\"\n",
       " :Genre            \"comedy\"\n",
       " :Good_chapter     \"Start from beginning\"\n",
       " CSV.Row{false}:\n",
       " :Title         \"街球江湖\"\n",
       " :Link          \"https://m.kuaikanmanhua.com/mobile/4049/list/\"\n",
       " :Genre         \"sports\"\n",
       " :Good_chapter  missing\n",
       " CSV.Row{false}:\n",
       " :Title         \"话少点广告部\"\n",
       " :Link          \"https://m.kuaikanmanhua.com/mobile/2031/list/\"\n",
       " :Genre         \"comedy, strip, workplace\"\n",
       " :Good_chapter  missing\n",
       " CSV.Row{false}:\n",
       " :Title         \"超感追踪\"\n",
       " :Link          \"https://m.kuaikanmanhua.com/mobile/1714/list/\"\n",
       " :Genre         \"crime, supernatural, thriller\"\n",
       " :Good_chapter  missing\n",
       " CSV.Row{false}:\n",
       " :Title         \"这也算超能力？\"\n",
       " :Link          \"https://m.kuaikanmanhua.com/mobile/5181/list/\"\n",
       " :Genre         \"comedy, supernatural\"\n",
       " :Good_chapter  missing\n",
       " CSV.Row{false}:\n",
       " :Title         …  \"郭九二漫画宇宙\"\n",
       " :Link             \"https://m.dongmanmanhua.cn/COMEDY/guojiuermanhuayuzhou/list?title_no=1445\"\n",
       " :Genre            \"comedy, family\"\n",
       " :Good_chapter     missing\n",
       " CSV.Row{false}:\n",
       " :Title         \"非人哉\"\n",
       " :Link          \"https://m.kuaikanmanhua.com/mobile/531/list/\"\n",
       " :Genre         \"comedy, fantasy, strip\"\n",
       " :Good_chapter  missing"
      ]
     },
     "execution_count": 27,
     "metadata": {},
     "output_type": "execute_result"
    }
   ],
   "source": [
    "file = CSV.File(\"wangman.csv\"; normalizenames=true)"
   ]
  },
  {
   "cell_type": "code",
   "execution_count": 51,
   "metadata": {},
   "outputs": [
    {
     "name": "stdout",
     "output_type": "stream",
     "text": [
      "comedy: 21\n",
      "strip: 11\n",
      "supernatural: 6\n",
      "wuxia: 4\n",
      "fantasy: 4\n",
      "pet: 2\n",
      "crime: 2\n",
      "sports: 2\n",
      "thriller: 2\n",
      "family: 1\n",
      "sci-fi: 1\n",
      "action: 1\n",
      "anthology: 1\n",
      "zombie: 1\n",
      "adventure: 1\n",
      "workplace: 1\n",
      "romance: 1\n",
      "superhero: 1\n",
      "wordless: 1\n",
      "shounen: 1\n"
     ]
    }
   ],
   "source": [
    "using DataStructures\n",
    "\n",
    "genres = DefaultDict(() -> [])  # cannot just use [] because then all categories share the same array\n",
    "\n",
    "for row in file\n",
    "    for genre in split(row.Genre, \", \")\n",
    "        push!(genres[genre], row.Title)\n",
    "    end    \n",
    "end\n",
    "\n",
    "sortedPairs = sort(collect(genres), by=p -> length(p.second), rev=true)\n",
    "for (k, v) in sortedPairs\n",
    "    println(k, \": \", length(v))\n",
    "end"
   ]
  },
  {
   "cell_type": "code",
   "execution_count": null,
   "metadata": {
    "scrolled": true
   },
   "outputs": [],
   "source": [
    "using Hyperscript\n",
    "@tags table thead tbody tr li"
   ]
  },
  {
   "cell_type": "code",
   "execution_count": 82,
   "metadata": {},
   "outputs": [
    {
     "data": {
      "text/html": [
       "<table><tbody><tr><td>comedy &#40;21&#41;</td><td><li>月兔复仇记</li><li>一品芝麻狐</li><li>不自然博物馆</li><li>俺哥来自深山</li><li>僵尸奶爸</li><li>入伍吧！魔法少女</li><li>再见，曾经喜欢的你</li><li>叫我森先生</li><li>吾皇巴扎黑</li><li>帮主！帮主！</li><li>废柴狐狸阿桔</li><li>有猫在</li><li>柔美的细胞君</li><li>猫猫虫咖波</li><li>绝顶</li><li>耐撕房东</li><li>花样家族</li><li>话少点广告部</li><li>这也算超能力？</li><li>郭九二漫画宇宙</li><li>非人哉</li></td></tr><tr><td>strip &#40;11&#41;</td><td><li>一品芝麻狐</li><li>不自然博物馆</li><li>俺哥来自深山</li><li>叫我森先生</li><li>吾皇巴扎黑</li><li>废柴狐狸阿桔</li><li>有猫在</li><li>柔美的细胞君</li><li>猫猫虫咖波</li><li>话少点广告部</li><li>非人哉</li></td></tr><tr><td>supernatural &#40;6&#41;</td><td><li>一品芝麻狐</li><li>俺哥来自深山</li><li>天经地易</li><li>章鱼</li><li>超感追踪</li><li>这也算超能力？</li></td></tr><tr><td>wuxia &#40;4&#41;</td><td><li>不凡的江湖</li><li>刀鞘的孩子</li><li>帮主！帮主！</li><li>绝顶</li></td></tr><tr><td>fantasy &#40;4&#41;</td><td><li>刀鞘的孩子</li><li>废柴狐狸阿桔</li><li>耐撕房东</li><li>非人哉</li></td></tr><tr><td>pet &#40;2&#41;</td><td><li>吾皇巴扎黑</li><li>有猫在</li></td></tr><tr><td>crime &#40;2&#41;</td><td><li>噩梦之城</li><li>超感追踪</li></td></tr><tr><td>sports &#40;2&#41;</td><td><li>羽影</li><li>街球江湖</li></td></tr><tr><td>thriller &#40;2&#41;</td><td><li>噩梦之城</li><li>超感追踪</li></td></tr><tr><td>family &#40;1&#41;</td><td><li>郭九二漫画宇宙</li></td></tr><tr><td>sci-fi &#40;1&#41;</td><td><li>月兔复仇记</li></td></tr><tr><td>action &#40;1&#41;</td><td><li>天经地易</li></td></tr><tr><td>anthology &#40;1&#41;</td><td><li>幻想少女</li></td></tr><tr><td>zombie &#40;1&#41;</td><td><li>僵尸奶爸</li></td></tr><tr><td>adventure &#40;1&#41;</td><td><li>不凡的江湖</li></td></tr><tr><td>workplace &#40;1&#41;</td><td><li>话少点广告部</li></td></tr><tr><td>romance &#40;1&#41;</td><td><li>再见，曾经喜欢的你</li></td></tr><tr><td>superhero &#40;1&#41;</td><td><li>入伍吧！魔法少女</li></td></tr><tr><td>wordless &#40;1&#41;</td><td><li>猫猫虫咖波</li></td></tr><tr><td>shounen &#40;1&#41;</td><td><li>月兔复仇记</li></td></tr></tbody></table>"
      ]
     },
     "metadata": {},
     "output_type": "display_data"
    }
   ],
   "source": [
    "rows = [\n",
    "    tr(\n",
    "        td(\"$k ($(length(v)))\"),\n",
    "        td(\n",
    "            [li(title) for title in v]\n",
    "        ),\n",
    "    ) for (k, v) in sortedPairs]\n",
    "\n",
    "display(\"text/html\", table(tbody(rows)))"
   ]
  },
  {
   "cell_type": "code",
   "execution_count": 90,
   "metadata": {},
   "outputs": [
    {
     "data": {
      "text/html": [
       "<table><tbody><tr><td rowspan=\"22\">comedy &#40;21&#41;</td></tr><tr><td border=\"1\">月兔复仇记</td></tr><tr><td border=\"1\">一品芝麻狐</td></tr><tr><td border=\"1\">不自然博物馆</td></tr><tr><td border=\"1\">俺哥来自深山</td></tr><tr><td border=\"1\">僵尸奶爸</td></tr><tr><td border=\"1\">入伍吧！魔法少女</td></tr><tr><td border=\"1\">再见，曾经喜欢的你</td></tr><tr><td border=\"1\">叫我森先生</td></tr><tr><td border=\"1\">吾皇巴扎黑</td></tr><tr><td border=\"1\">帮主！帮主！</td></tr><tr><td border=\"1\">废柴狐狸阿桔</td></tr><tr><td border=\"1\">有猫在</td></tr><tr><td border=\"1\">柔美的细胞君</td></tr><tr><td border=\"1\">猫猫虫咖波</td></tr><tr><td border=\"1\">绝顶</td></tr><tr><td border=\"1\">耐撕房东</td></tr><tr><td border=\"1\">花样家族</td></tr><tr><td border=\"1\">话少点广告部</td></tr><tr><td border=\"1\">这也算超能力？</td></tr><tr><td border=\"1\">郭九二漫画宇宙</td></tr><tr><td border=\"1\">非人哉</td></tr><tr><td rowspan=\"12\">strip &#40;11&#41;</td></tr><tr><td border=\"1\">一品芝麻狐</td></tr><tr><td border=\"1\">不自然博物馆</td></tr><tr><td border=\"1\">俺哥来自深山</td></tr><tr><td border=\"1\">叫我森先生</td></tr><tr><td border=\"1\">吾皇巴扎黑</td></tr><tr><td border=\"1\">废柴狐狸阿桔</td></tr><tr><td border=\"1\">有猫在</td></tr><tr><td border=\"1\">柔美的细胞君</td></tr><tr><td border=\"1\">猫猫虫咖波</td></tr><tr><td border=\"1\">话少点广告部</td></tr><tr><td border=\"1\">非人哉</td></tr><tr><td rowspan=\"7\">supernatural &#40;6&#41;</td></tr><tr><td border=\"1\">一品芝麻狐</td></tr><tr><td border=\"1\">俺哥来自深山</td></tr><tr><td border=\"1\">天经地易</td></tr><tr><td border=\"1\">章鱼</td></tr><tr><td border=\"1\">超感追踪</td></tr><tr><td border=\"1\">这也算超能力？</td></tr><tr><td rowspan=\"5\">wuxia &#40;4&#41;</td></tr><tr><td border=\"1\">不凡的江湖</td></tr><tr><td border=\"1\">刀鞘的孩子</td></tr><tr><td border=\"1\">帮主！帮主！</td></tr><tr><td border=\"1\">绝顶</td></tr><tr><td rowspan=\"5\">fantasy &#40;4&#41;</td></tr><tr><td border=\"1\">刀鞘的孩子</td></tr><tr><td border=\"1\">废柴狐狸阿桔</td></tr><tr><td border=\"1\">耐撕房东</td></tr><tr><td border=\"1\">非人哉</td></tr><tr><td rowspan=\"3\">pet &#40;2&#41;</td></tr><tr><td border=\"1\">吾皇巴扎黑</td></tr><tr><td border=\"1\">有猫在</td></tr><tr><td rowspan=\"3\">crime &#40;2&#41;</td></tr><tr><td border=\"1\">噩梦之城</td></tr><tr><td border=\"1\">超感追踪</td></tr><tr><td rowspan=\"3\">sports &#40;2&#41;</td></tr><tr><td border=\"1\">羽影</td></tr><tr><td border=\"1\">街球江湖</td></tr><tr><td rowspan=\"3\">thriller &#40;2&#41;</td></tr><tr><td border=\"1\">噩梦之城</td></tr><tr><td border=\"1\">超感追踪</td></tr><tr><td rowspan=\"2\">family &#40;1&#41;</td></tr><tr><td border=\"1\">郭九二漫画宇宙</td></tr><tr><td rowspan=\"2\">sci-fi &#40;1&#41;</td></tr><tr><td border=\"1\">月兔复仇记</td></tr><tr><td rowspan=\"2\">action &#40;1&#41;</td></tr><tr><td border=\"1\">天经地易</td></tr><tr><td rowspan=\"2\">anthology &#40;1&#41;</td></tr><tr><td border=\"1\">幻想少女</td></tr><tr><td rowspan=\"2\">zombie &#40;1&#41;</td></tr><tr><td border=\"1\">僵尸奶爸</td></tr><tr><td rowspan=\"2\">adventure &#40;1&#41;</td></tr><tr><td border=\"1\">不凡的江湖</td></tr><tr><td rowspan=\"2\">workplace &#40;1&#41;</td></tr><tr><td border=\"1\">话少点广告部</td></tr><tr><td rowspan=\"2\">romance &#40;1&#41;</td></tr><tr><td border=\"1\">再见，曾经喜欢的你</td></tr><tr><td rowspan=\"2\">superhero &#40;1&#41;</td></tr><tr><td border=\"1\">入伍吧！魔法少女</td></tr><tr><td rowspan=\"2\">wordless &#40;1&#41;</td></tr><tr><td border=\"1\">猫猫虫咖波</td></tr><tr><td rowspan=\"2\">shounen &#40;1&#41;</td></tr><tr><td border=\"1\">月兔复仇记</td></tr></tbody></table>"
      ]
     },
     "metadata": {},
     "output_type": "display_data"
    }
   ],
   "source": [
    "function rowGenerator(sortedPairs)\n",
    "    Channel() do channel\n",
    "        for (k, v) in sortedPairs\n",
    "            len = length(v)\n",
    "            put!(channel, tr(td(rowspan=len+1, \"$k ($len)\")))\n",
    "            for title in v\n",
    "                put!(channel, tr(td(title)))\n",
    "            end            \n",
    "        end\n",
    "    end\n",
    "end\n",
    "\n",
    "rows = collect(rowGenerator(sortedPairs))\n",
    "display(\"text/html\", table(tbody(rows)))"
   ]
  },
  {
   "cell_type": "code",
   "execution_count": 77,
   "metadata": {},
   "outputs": [
    {
     "data": {
      "text/plain": [
       "4-element Array{Int64,1}:\n",
       " 1\n",
       " 2\n",
       " 3\n",
       " 4"
      ]
     },
     "execution_count": 77,
     "metadata": {},
     "output_type": "execute_result"
    }
   ],
   "source": [
    "vcat([1,2], [3, 4])"
   ]
  }
 ],
 "metadata": {
  "kernelspec": {
   "display_name": "Julia 1.4.0",
   "language": "julia",
   "name": "julia-1.4"
  },
  "language_info": {
   "file_extension": ".jl",
   "mimetype": "application/julia",
   "name": "julia",
   "version": "1.4.0"
  }
 },
 "nbformat": 4,
 "nbformat_minor": 4
}
