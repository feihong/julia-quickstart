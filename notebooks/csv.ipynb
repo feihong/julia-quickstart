{
 "cells": [
  {
   "cell_type": "code",
   "execution_count": 8,
   "metadata": {},
   "outputs": [
    {
     "name": "stdout",
     "output_type": "stream",
     "text": [
      "thread = 1 warning: only found 3 / 4 columns on data row: 30. Filling remaining columns with `missing`\n"
     ]
    },
    {
     "data": {
      "text/plain": [
       "30-element CSV.File{false}:\n",
       " CSV.Row{false}:\n",
       " :Title         …  \"月兔复仇记\"\n",
       " :Link             \"https://m.dongmanmanhua.cn/COMEDY/yuetufuchouji/list?title_no=1343\"\n",
       " :Genre            \"comedy, sci-fi, shounen\"\n",
       " :Good_chapter     \"Start from beginning\"\n",
       " CSV.Row{false}:\n",
       " :Title         \"一品芝麻狐\"\n",
       " :Link          \"https://m.kuaikanmanhua.com/mobile/686/list/\"\n",
       " :Genre         \"comedy, strip, supernatural\"\n",
       " :Good_chapter  missing\n",
       " CSV.Row{false}:\n",
       " :Title         \"不凡的江湖\"\n",
       " :Link          \"https://m.kuaikanmanhua.com/mobile/6272/list/\"\n",
       " :Genre         \"adventure, wuxia\"\n",
       " :Good_chapter  missing\n",
       " CSV.Row{false}:\n",
       " :Title         \"不自然博物馆\"\n",
       " :Link          \"https://m.kuaikanmanhua.com/mobile/152/list/\"\n",
       " :Genre         \"comedy, strip\"\n",
       " :Good_chapter  missing\n",
       " CSV.Row{false}:\n",
       " :Title         \"俺哥来自深山\"\n",
       " :Link          \"https://m.kuaikanmanhua.com/mobile/5728/list/\"\n",
       " :Genre         \"comedy, strip, supernatural\"\n",
       " :Good_chapter  missing\n",
       " CSV.Row{false}:\n",
       " :Title         …  \"僵尸奶爸\"\n",
       " :Link             \"https://m.dongmanmanhua.cn/COMEDY/jiangshinaiba/list?title_no=1324\"\n",
       " :Genre            \"comedy, zombie\"\n",
       " :Good_chapter     \"Start from beginning\"\n",
       " CSV.Row{false}:\n",
       " :Title         …  \"入伍吧！魔法少女\"\n",
       " :Link             \"https://m.webtoons.com/zh-hant/comedy/mofashaonu/list?title_no=1120\"\n",
       " :Genre            \"comedy, superhero\"\n",
       " :Good_chapter     missing\n",
       " CSV.Row{false}:\n",
       " :Title         \"再见，曾经喜欢的你\"\n",
       " :Link          \"https://m.kuaikanmanhua.com/mobile/752/list/\"\n",
       " :Genre         \"comedy, romance\"\n",
       " :Good_chapter  missing\n",
       " CSV.Row{false}:\n",
       " :Title         \"刀鞘的孩子\"\n",
       " :Link          \"https://m.kuaikanmanhua.com/mobile/6117/list/\"\n",
       " :Genre         \"fantasy, wuxia\"\n",
       " :Good_chapter  missing\n",
       " CSV.Row{false}:\n",
       " :Title         \"叫我森先生\"\n",
       " :Link          \"https://m.kuaikanmanhua.com/mobile/96/list/\"\n",
       " :Genre         \"comedy, strip\"\n",
       " :Good_chapter  missing\n",
       " CSV.Row{false}:\n",
       " :Title         …  \"吾皇巴扎黑\"\n",
       " :Link             \"https://m.kuaikanmanhua.com/mobile/68/list/\"\n",
       " :Genre            \"comedy, pe t, strip\"\n",
       " :Good_chapter     \"https://m.kuaikanmanhua.com/comics/244076?Source=6&TimeStamp=2020-03-27%2013%3A15%3A35%3A486\"\n",
       " CSV.Row{false}:\n",
       " :Title         \"噩梦之城\"\n",
       " :Link          \"https://m.kuaikanmanhua.com/mobile/1180/list/\"\n",
       " :Genre         \"crime, thriller\"\n",
       " :Good_chapter  missing\n",
       " CSV.Row{false}:\n",
       " :Title         \"天经地易\"\n",
       " :Link          \"https://m.kuaikanmanhua.com/mobile/2979/list/\"\n",
       " :Genre         \"action, supernatural\"\n",
       " :Good_chapter  missing\n",
       " ⋮\n",
       " CSV.Row{false}:\n",
       " :Title         …  \"猫猫虫咖波\"\n",
       " :Link             \"https://m.webtoons.com/zh-hant/comedy/maomaochongkapo/list?title_no=394\"\n",
       " :Genre            \"comedy, strip, wordless\"\n",
       " :Good_chapter     \"https://www.webtoons.com/zh-hant/comedy/maomaochongkapo/%E7%AC%AC521%E8%A9%B1-%E5%91%BC%E6%8B%89%E5%9C%88%E7%BE%8E%E5%91%B3%E5%B0%8F%E9%9B%9E/viewer?title_no=394&episode_no=529\"\n",
       " CSV.Row{false}:\n",
       " :Title         \"章鱼\"\n",
       " :Link          \"https://m.kuaikanmanhua.com/mobile/4219/list/\"\n",
       " :Genre         \"supernatural\"\n",
       " :Good_chapter  missing\n",
       " CSV.Row{false}:\n",
       " :Title         \"绝顶\"\n",
       " :Link          \"https://m.dongmanmanhua.cn/BOY/jueding/list?title_no=1331\"\n",
       " :Genre         \"comedy, wuxia\"\n",
       " :Good_chapter  missing\n",
       " CSV.Row{false}:\n",
       " :Title         \"羽影\"\n",
       " :Link          \"https://m.kuaikanmanhua.com/mobile/3131/list/\"\n",
       " :Genre         \"sports\"\n",
       " :Good_chapter  missing\n",
       " CSV.Row{false}:\n",
       " :Title         \"耐撕房东\"\n",
       " :Link          \"https://m.kuaikanmanhua.com/mobile/3263/list/\"\n",
       " :Genre         \"comedy, fantasy\"\n",
       " :Good_chapter  \"Start from beginning\"\n",
       " CSV.Row{false}:\n",
       " :Title         …  \"花样家族\"\n",
       " :Link             \"https://m.dongmanmanhua.cn/COMEDY/huayangjiazu/list?title_no=306\"\n",
       " :Genre            \"comedy\"\n",
       " :Good_chapter     \"Start from beginning\"\n",
       " CSV.Row{false}:\n",
       " :Title         \"街球江湖\"\n",
       " :Link          \"https://m.kuaikanmanhua.com/mobile/4049/list/\"\n",
       " :Genre         \"sports\"\n",
       " :Good_chapter  missing\n",
       " CSV.Row{false}:\n",
       " :Title         \"话少点广告部\"\n",
       " :Link          \"https://m.kuaikanmanhua.com/mobile/2031/list/\"\n",
       " :Genre         \"comedy, strip, workplace\"\n",
       " :Good_chapter  missing\n",
       " CSV.Row{false}:\n",
       " :Title         \"超感追踪\"\n",
       " :Link          \"https://m.kuaikanmanhua.com/mobile/1714/list/\"\n",
       " :Genre         \"crime, supernatural, thriller\"\n",
       " :Good_chapter  missing\n",
       " CSV.Row{false}:\n",
       " :Title         \"这也算超能力？\"\n",
       " :Link          \"https://m.kuaikanmanhua.com/mobile/5181/list/\"\n",
       " :Genre         \"comedy, supernatural\"\n",
       " :Good_chapter  missing\n",
       " CSV.Row{false}:\n",
       " :Title         …  \"郭九二漫画宇宙\"\n",
       " :Link             \"https://m.dongmanmanhua.cn/COMEDY/guojiuermanhuayuzhou/list?title_no=1445\"\n",
       " :Genre            \"comedy, family\"\n",
       " :Good_chapter     missing\n",
       " CSV.Row{false}:\n",
       " :Title         \"非人哉\"\n",
       " :Link          \"https://m.kuaikanmanhua.com/mobile/531/list/\"\n",
       " :Genre         \"comedy, fantasy, strip\"\n",
       " :Good_chapter  missing"
      ]
     },
     "execution_count": 8,
     "metadata": {},
     "output_type": "execute_result"
    }
   ],
   "source": [
    "import CSV\n",
    "\n",
    "rows = CSV.File(\"wangman.csv\"; normalizenames=true)"
   ]
  },
  {
   "cell_type": "code",
   "execution_count": 41,
   "metadata": {},
   "outputs": [
    {
     "name": "stdout",
     "output_type": "stream",
     "text": [
      "月兔复仇记comedy, sci-fi, shounen\n",
      "一品芝麻狐comedy, strip, supernatural\n",
      "不凡的江湖adventure, wuxia\n",
      "不自然博物馆comedy, strip\n",
      "俺哥来自深山comedy, strip, supernatural\n",
      "僵尸奶爸comedy, zombie\n",
      "入伍吧！魔法少女comedy, superhero\n",
      "再见，曾经喜欢的你comedy, romance\n",
      "刀鞘的孩子fantasy, wuxia\n",
      "叫我森先生comedy, strip\n",
      "吾皇巴扎黑comedy, pe t, strip\n",
      "噩梦之城crime, thriller\n",
      "天经地易action, supernatural\n",
      "帮主！帮主！comedy, wuxia\n",
      "幻想少女anthology\n",
      "废柴狐狸阿桔comedy, fantasy, strip\n",
      "有猫在comedy, pet, strip\",h\n",
      "美的细胞君,htedy, strip\",\r\n",
      "猫虫咖波,htedy, strip, wordless\",h\n",
      "鱼,hternatural,\r\n",
      "\n",
      "顶,htedy, wuxia\",\r\n",
      "影,htrts,\r\n",
      "\n",
      "撕房东,htedy, fantasy\",S\n",
      "样家族,htedy,St\n",
      "球江湖,htrts,\r\n",
      "\n",
      "少点广告部,htedy, strip, workplace\",\r\n",
      "感追踪,htme, supernatural, thriller\",\r\n",
      "也算超能力？,htedy, supernatural\",\r\n",
      "九二漫画宇宙,htedy, family\",\r\n",
      "人哉,htedy, fantasy, strip\",\u0000\n"
     ]
    },
    {
     "data": {
      "text/plain": [
       "DefaultDict{Any,Any,var\"#21#22\"} with 0 entries"
      ]
     },
     "execution_count": 41,
     "metadata": {},
     "output_type": "execute_result"
    }
   ],
   "source": [
    "using DataStructures\n",
    "\n",
    "genres = DefaultDict(() -> [])\n",
    "\n",
    "for row in rows\n",
    "    println(row.Title, row.Genre)\n",
    "#     for genre in split(row.Genre, \", \")\n",
    "#         println(row.Title, genre)\n",
    "#         push!(genres[genre], row.Title)\n",
    "#     end    \n",
    "end\n",
    "\n",
    "genres"
   ]
  },
  {
   "cell_type": "code",
   "execution_count": 34,
   "metadata": {},
   "outputs": [
    {
     "data": {
      "text/plain": [
       "1-element Array{Int64,1}:\n",
       " 1"
      ]
     },
     "execution_count": 34,
     "metadata": {},
     "output_type": "execute_result"
    }
   ],
   "source": []
  }
 ],
 "metadata": {
  "kernelspec": {
   "display_name": "Julia 1.4.0",
   "language": "julia",
   "name": "julia-1.4"
  },
  "language_info": {
   "file_extension": ".jl",
   "mimetype": "application/julia",
   "name": "julia",
   "version": "1.4.0"
  }
 },
 "nbformat": 4,
 "nbformat_minor": 4
}
