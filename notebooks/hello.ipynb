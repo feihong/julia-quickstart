{
 "cells": [
  {
   "cell_type": "code",
   "execution_count": 2,
   "metadata": {},
   "outputs": [
    {
     "data": {
      "text/plain": [
       "randomHanzi (generic function with 1 method)"
      ]
     },
     "execution_count": 2,
     "metadata": {},
     "output_type": "execute_result"
    }
   ],
   "source": [
    "function randomHanzi()\n",
    "    n = rand(0x4e00:0x9fff)\n",
    "    String([Char(n)])\n",
    "end"
   ]
  },
  {
   "cell_type": "code",
   "execution_count": 3,
   "metadata": {},
   "outputs": [
    {
     "name": "stdout",
     "output_type": "stream",
     "text": [
      "涮 鸁 怩 韄 骜 汲 劄 釲 报 掸 禷 蔜 賴 痺 嗽 蔞 之 綐 鷨 黳 琾 褔 嬊 楽 蠇 穣 粞 凑 痚 橩 岵 艉 誧 涽 棄 跫 啰 洘 嫏 畟 宼 啚 瞖 睮 嘴 迋 坑 釾 盫 葧 镩 狒 蘟 瀇 哱 鎽 浧 档 炨 踹 徾 旵 盐 鋦 捸 貌 輮 怉 囮 橭 杁 樎 立 眘 怦 笄 葾 銺 芧 颉 汎 淼 閏 蠲 榙 錛 芫 緧 "
     ]
    }
   ],
   "source": [
    "for _ in 1:88\n",
    "    print(randomHanzi(), \" \")\n",
    "end"
   ]
  },
  {
   "cell_type": "code",
   "execution_count": 4,
   "metadata": {},
   "outputs": [
    {
     "data": {
      "text/html": [
       "<h1>你好世界！</h1>"
      ]
     },
     "metadata": {},
     "output_type": "display_data"
    }
   ],
   "source": [
    "display(\"text/html\", \"<h1>你好世界！</h1>\")"
   ]
  },
  {
   "cell_type": "code",
   "execution_count": 5,
   "metadata": {},
   "outputs": [],
   "source": [
    "using Hyperscript"
   ]
  },
  {
   "cell_type": "code",
   "execution_count": 6,
   "metadata": {},
   "outputs": [
    {
     "data": {
      "text/html": [
       "<h1>再见宇宙。</h1>"
      ]
     },
     "metadata": {},
     "output_type": "display_data"
    }
   ],
   "source": [
    "display(\"text/html\", m(\"h1\", \"再见宇宙。\"))"
   ]
  },
  {
   "cell_type": "code",
   "execution_count": 7,
   "metadata": {},
   "outputs": [
    {
     "data": {
      "text/html": [
       "<div><span style=\"font-size: 36px; line-height: 40px; text-shadow: 0 0 2px black; color: blue;\">嘏</span><span style=\"font-size: 36px; line-height: 40px; text-shadow: 0 0 2px black; color: indigo;\">造</span><span style=\"font-size: 36px; line-height: 40px; text-shadow: 0 0 2px black; color: yellow;\">儫</span><span style=\"font-size: 36px; line-height: 40px; text-shadow: 0 0 2px black; color: green;\">邽</span><span style=\"font-size: 36px; line-height: 40px; text-shadow: 0 0 2px black; color: red;\">籷</span><span style=\"font-size: 36px; line-height: 40px; text-shadow: 0 0 2px black; color: orange;\">伐</span><span style=\"font-size: 36px; line-height: 40px; text-shadow: 0 0 2px black; color: violet;\">妦</span><span style=\"font-size: 36px; line-height: 40px; text-shadow: 0 0 2px black; color: blue;\">煻</span><span style=\"font-size: 36px; line-height: 40px; text-shadow: 0 0 2px black; color: indigo;\">吨</span><span style=\"font-size: 36px; line-height: 40px; text-shadow: 0 0 2px black; color: yellow;\">珴</span><span style=\"font-size: 36px; line-height: 40px; text-shadow: 0 0 2px black; color: green;\">馾</span><span style=\"font-size: 36px; line-height: 40px; text-shadow: 0 0 2px black; color: red;\">陸</span><span style=\"font-size: 36px; line-height: 40px; text-shadow: 0 0 2px black; color: orange;\">爦</span><span style=\"font-size: 36px; line-height: 40px; text-shadow: 0 0 2px black; color: violet;\">臼</span><span style=\"font-size: 36px; line-height: 40px; text-shadow: 0 0 2px black; color: blue;\">乾</span><span style=\"font-size: 36px; line-height: 40px; text-shadow: 0 0 2px black; color: indigo;\">汮</span><span style=\"font-size: 36px; line-height: 40px; text-shadow: 0 0 2px black; color: yellow;\">嗐</span><span style=\"font-size: 36px; line-height: 40px; text-shadow: 0 0 2px black; color: green;\">湤</span><span style=\"font-size: 36px; line-height: 40px; text-shadow: 0 0 2px black; color: red;\">歾</span><span style=\"font-size: 36px; line-height: 40px; text-shadow: 0 0 2px black; color: orange;\">廵</span><span style=\"font-size: 36px; line-height: 40px; text-shadow: 0 0 2px black; color: violet;\">竞</span><span style=\"font-size: 36px; line-height: 40px; text-shadow: 0 0 2px black; color: blue;\">瀵</span><span style=\"font-size: 36px; line-height: 40px; text-shadow: 0 0 2px black; color: indigo;\">慿</span><span style=\"font-size: 36px; line-height: 40px; text-shadow: 0 0 2px black; color: yellow;\">擺</span></div>"
      ]
     },
     "metadata": {},
     "output_type": "display_data"
    }
   ],
   "source": [
    "using Random\n",
    "\n",
    "colors = shuffle([\"red\", \"orange\", \"yellow\", \"green\", \"blue\", \"indigo\", \"violet\"])\n",
    "\n",
    "function span(hanzi, color)\n",
    "    m(\"span\", style=\"font-size: 36px; line-height: 40px; text-shadow: 0 0 2px black; color: $color;\", hanzi)\n",
    "end\n",
    "\n",
    "function spans(n)\n",
    "    hanzis = [randomHanzi() for _ in 1:n]\n",
    "    colors_ = Iterators.cycle(colors)\n",
    "    [span(h, c) for (h, c) in zip(hanzis, colors_)]\n",
    "end\n",
    "\n",
    "display(\"text/html\", m(\"div\", spans(24)))"
   ]
  },
  {
   "cell_type": "code",
   "execution_count": 8,
   "metadata": {},
   "outputs": [
    {
     "name": "stdout",
     "output_type": "stream",
     "text": [
      "4 => a\n",
      "3 => b\n",
      "1 => c\n",
      "5 => a\n",
      "2 => b\n"
     ]
    }
   ],
   "source": [
    "using Random\n",
    "\n",
    "for (a, b) in zip(shuffle([1,2,3,4,5]), Iterators.cycle([\"a\", \"b\", \"c\"]))\n",
    "    println(a, \" => \", b)\n",
    "end"
   ]
  },
  {
   "cell_type": "code",
   "execution_count": 11,
   "metadata": {},
   "outputs": [
    {
     "name": "stdout",
     "output_type": "stream",
     "text": [
      "\u001b[32m\u001b[1mStatus\u001b[22m\u001b[39m `~/work/julia-quickstart/Project.toml`\n",
      " \u001b[90m [47d2ed2b]\u001b[39m\u001b[37m Hyperscript v0.0.3\u001b[39m\n"
     ]
    }
   ],
   "source": [
    "import Pkg\n",
    "Pkg.status()"
   ]
  }
 ],
 "metadata": {
  "kernelspec": {
   "display_name": "Julia 1.4.0",
   "language": "julia",
   "name": "julia-1.4"
  },
  "language_info": {
   "file_extension": ".jl",
   "mimetype": "application/julia",
   "name": "julia",
   "version": "1.4.0"
  }
 },
 "nbformat": 4,
 "nbformat_minor": 4
}
