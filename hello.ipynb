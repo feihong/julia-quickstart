{
 "cells": [
  {
   "cell_type": "code",
   "execution_count": 8,
   "metadata": {},
   "outputs": [
    {
     "data": {
      "text/plain": [
       "randomHanzi (generic function with 1 method)"
      ]
     },
     "execution_count": 8,
     "metadata": {},
     "output_type": "execute_result"
    }
   ],
   "source": [
    "function randomHanzi()\n",
    "    n = rand(0x4e00:0x9fff)\n",
    "    String([Char(n)])\n",
    "end"
   ]
  },
  {
   "cell_type": "code",
   "execution_count": 9,
   "metadata": {},
   "outputs": [
    {
     "name": "stdout",
     "output_type": "stream",
     "text": [
      "賦 麚 縀 瑌 筵 篁 鎏 萩 煂 攽 囐 蔚 辚 銌 渻 慶 錤 蜊 蒮 彋 潇 瘊 梐 鲀 煠 瑈 場 槎 鏅 坘 蓶 抨 蠼 魡 爗 顗 袦 嚈 逊 屁 膭 袞 联 惃 璽 怶 锤 熕 褰 衙 喔 笝 髃 處 噾 脼 闍 瞠 蔍 薢 畄 苍 馔 銷 傹 媓 樹 餃 釸 阯 鑊 優 棂 艔 桂 瞶 懾 悂 偩 缆 劍 夓 莼 箇 岇 呕 北 楎 "
     ]
    }
   ],
   "source": [
    "for _ in 1:88\n",
    "    print(randomHanzi(), \" \")\n",
    "end"
   ]
  },
  {
   "cell_type": "code",
   "execution_count": 10,
   "metadata": {},
   "outputs": [],
   "source": [
    "# using Pkg\n",
    "# Pkg.add(\"Hyperscript\")"
   ]
  },
  {
   "cell_type": "code",
   "execution_count": 11,
   "metadata": {},
   "outputs": [
    {
     "data": {
      "text/html": [
       "<h1>你好世界！</h1>"
      ]
     },
     "metadata": {},
     "output_type": "display_data"
    }
   ],
   "source": [
    "display(\"text/html\", \"<h1>你好世界！</h1>\")"
   ]
  },
  {
   "cell_type": "code",
   "execution_count": 12,
   "metadata": {},
   "outputs": [],
   "source": [
    "using Hyperscript"
   ]
  },
  {
   "cell_type": "code",
   "execution_count": 13,
   "metadata": {},
   "outputs": [
    {
     "data": {
      "text/html": [
       "<h1>再见宇宙。</h1>"
      ]
     },
     "metadata": {},
     "output_type": "display_data"
    }
   ],
   "source": [
    "display(\"text/html\", m(\"h1\", \"再见宇宙。\"))"
   ]
  },
  {
   "cell_type": "code",
   "execution_count": 132,
   "metadata": {},
   "outputs": [
    {
     "data": {
      "text/html": [
       "<div><span style=\"font-size: 36px; line-height: 40px; text-shadow: 0 0 2px black; color: blue;\">俨</span><span style=\"font-size: 36px; line-height: 40px; text-shadow: 0 0 2px black; color: yellow;\">妱</span><span style=\"font-size: 36px; line-height: 40px; text-shadow: 0 0 2px black; color: red;\">嵼</span><span style=\"font-size: 36px; line-height: 40px; text-shadow: 0 0 2px black; color: orange;\">嶞</span><span style=\"font-size: 36px; line-height: 40px; text-shadow: 0 0 2px black; color: indigo;\">裬</span><span style=\"font-size: 36px; line-height: 40px; text-shadow: 0 0 2px black; color: violet;\">晜</span><span style=\"font-size: 36px; line-height: 40px; text-shadow: 0 0 2px black; color: green;\">申</span><span style=\"font-size: 36px; line-height: 40px; text-shadow: 0 0 2px black; color: blue;\">鴳</span><span style=\"font-size: 36px; line-height: 40px; text-shadow: 0 0 2px black; color: yellow;\">濺</span><span style=\"font-size: 36px; line-height: 40px; text-shadow: 0 0 2px black; color: red;\">傏</span><span style=\"font-size: 36px; line-height: 40px; text-shadow: 0 0 2px black; color: orange;\">芇</span><span style=\"font-size: 36px; line-height: 40px; text-shadow: 0 0 2px black; color: indigo;\">砒</span><span style=\"font-size: 36px; line-height: 40px; text-shadow: 0 0 2px black; color: violet;\">墯</span><span style=\"font-size: 36px; line-height: 40px; text-shadow: 0 0 2px black; color: green;\">瀏</span><span style=\"font-size: 36px; line-height: 40px; text-shadow: 0 0 2px black; color: blue;\">鉲</span><span style=\"font-size: 36px; line-height: 40px; text-shadow: 0 0 2px black; color: yellow;\">匦</span><span style=\"font-size: 36px; line-height: 40px; text-shadow: 0 0 2px black; color: red;\">鮃</span><span style=\"font-size: 36px; line-height: 40px; text-shadow: 0 0 2px black; color: orange;\">錺</span><span style=\"font-size: 36px; line-height: 40px; text-shadow: 0 0 2px black; color: indigo;\">痗</span><span style=\"font-size: 36px; line-height: 40px; text-shadow: 0 0 2px black; color: violet;\">光</span><span style=\"font-size: 36px; line-height: 40px; text-shadow: 0 0 2px black; color: green;\">嬎</span><span style=\"font-size: 36px; line-height: 40px; text-shadow: 0 0 2px black; color: blue;\">埾</span><span style=\"font-size: 36px; line-height: 40px; text-shadow: 0 0 2px black; color: yellow;\">遍</span><span style=\"font-size: 36px; line-height: 40px; text-shadow: 0 0 2px black; color: red;\">綅</span></div>"
      ]
     },
     "metadata": {},
     "output_type": "display_data"
    }
   ],
   "source": [
    "using Random\n",
    "\n",
    "colors = shuffle([\"red\", \"orange\", \"yellow\", \"green\", \"blue\", \"indigo\", \"violet\"])\n",
    "\n",
    "function span(hanzi, color)\n",
    "    m(\"span\", style=\"font-size: 36px; line-height: 40px; text-shadow: 0 0 2px black; color: $color;\", hanzi)\n",
    "end\n",
    "\n",
    "function spans(n)\n",
    "    hanzis = [randomHanzi() for _ in 1:n]\n",
    "    colors_ = Iterators.cycle(colors)\n",
    "    [span(h, c) for (h, c) in zip(hanzis, colors_)]\n",
    "end\n",
    "\n",
    "display(\"text/html\", m(\"div\", spans(24)))"
   ]
  },
  {
   "cell_type": "code",
   "execution_count": 105,
   "metadata": {},
   "outputs": [
    {
     "name": "stdout",
     "output_type": "stream",
     "text": [
      "3=>a\n",
      "4=>b\n",
      "1=>c\n",
      "5=>a\n",
      "2=>b\n"
     ]
    }
   ],
   "source": [
    "using Random\n",
    "\n",
    "for (a, b) in zip(shuffle([1,2,3,4,5]), Iterators.cycle([\"a\", \"b\", \"c\"]))\n",
    "    println(a, \"=>\", b)\n",
    "end"
   ]
  }
 ],
 "metadata": {
  "kernelspec": {
   "display_name": "Julia 1.4.0",
   "language": "julia",
   "name": "julia-1.4"
  },
  "language_info": {
   "file_extension": ".jl",
   "mimetype": "application/julia",
   "name": "julia",
   "version": "1.4.0"
  }
 },
 "nbformat": 4,
 "nbformat_minor": 4
}
